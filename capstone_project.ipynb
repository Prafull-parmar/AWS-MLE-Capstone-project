{
 "cells": [
  {
   "cell_type": "markdown",
   "id": "614a76f8",
   "metadata": {},
   "source": [
    "# AWS Machine Learning Engineer Nano Degree Capstone Project "
   ]
  },
  {
   "cell_type": "markdown",
   "id": "210e8ae9",
   "metadata": {},
   "source": [
    "## Plants Disease Detection Using Deep Learning"
   ]
  },
  {
   "cell_type": "markdown",
   "id": "7ab4d610",
   "metadata": {},
   "source": [
    "### Project  Domain"
   ]
  },
  {
   "cell_type": "markdown",
   "id": "15a2b3c4",
   "metadata": {},
   "source": [
    "Plant diseases are one of the major factors responsible for substantial losses in yield of\n",
    "plants, leading to huge economic losses. According to a study by the Associated Chambers\n",
    "of Commerce and Industry of India, annual crop losses due to diseases and pest’s amount to\n",
    "Rs.50,000 crore in India alone, which is significant in a country where the\n",
    "farmers are responsible for feeding a population of close to 1.3 billion people. The value of\n",
    "plant science is therefore huge.</br>\n",
    "Accurate identification and diagnosis of plant diseases are very important in the era of\n",
    "climate change and globalization for food security. Accurate and early identification of plant\n",
    "diseases could help in the prevention of spread of invasive pests/pathogens. In addition, for an\n",
    "efficient and economical management of plant diseases accurate, sensitive and specific\n",
    "diagnosis is necessary.</br>\n",
    "The growth of GPU’s ( Graphical Processing Units ) has aided academics and business\n",
    "in the advancement of Deep Learning methods, allowing them to explore deeper and more\n",
    "sophisticated Neural Networks. Using concepts of Image Classification and Transfer\n",
    "Learning we could train a Deep Learning model to categorize Plant leaf’s images to predict\n",
    "whether the plant is healthy or has any diseases. This could help in the early detection of any\n",
    "diseases in plants and could help take preventive measures to prevent huge crop losses"
   ]
  },
  {
   "cell_type": "markdown",
   "id": "d21af543",
   "metadata": {},
   "source": [
    "### Data Prepation"
   ]
  },
  {
   "cell_type": "markdown",
   "id": "8e9bbf8e",
   "metadata": {},
   "source": [
    "####  Installing Libraries\n",
    "* We will be using **split-folders** to split our dataset into train, val and test sets.\n",
    "* **tqdm** will help give us a visual status of the progress while copying folders."
   ]
  },
  {
   "cell_type": "code",
   "execution_count": 1,
   "id": "411aa5ce",
   "metadata": {},
   "outputs": [
    {
     "name": "stdout",
     "output_type": "stream",
     "text": [
      "Collecting split-folders\n",
      "  Downloading split_folders-0.4.3-py3-none-any.whl (7.4 kB)\n",
      "Requirement already satisfied: tqdm in /home/ec2-user/anaconda3/envs/pytorch_p36/lib/python3.6/site-packages (4.61.1)\n",
      "Installing collected packages: split-folders\n",
      "Successfully installed split-folders-0.4.3\n"
     ]
    }
   ],
   "source": [
    "!pip install split-folders tqdm"
   ]
  },
  {
   "cell_type": "markdown",
   "id": "7ae8a25d",
   "metadata": {},
   "source": [
    "#### Using GIT Large File Storage(LFS)\n",
    "* For the pupose of this project the dataset is that we will be usig has been uploaded in a zipped file format to GIT LFS( https://docs.github.com/en/repositories/working-with-files/managing-large-files)\n",
    "* So we need to install git lfs first and then use it to pull the complete data of the zip folder, as only links to the actual file present in git lfs is stored in the git repository."
   ]
  },
  {
   "cell_type": "code",
   "execution_count": 2,
   "id": "1f40d690",
   "metadata": {},
   "outputs": [
    {
     "name": "stdout",
     "output_type": "stream",
     "text": [
      "Detected operating system as amzn/2018.\n",
      "Checking for curl...\n",
      "Detected curl...\n",
      "Downloading repository file: https://packagecloud.io/install/repositories/github/git-lfs/config_file.repo?os=amzn&dist=2018&source=script\n",
      "done.\n",
      "Installing pygpgme to verify GPG signatures...\n",
      "Loaded plugins: dkms-build-requires, priorities, update-motd, upgrade-helper,\n",
      "              : versionlock\n",
      "amzn-main                                                | 2.1 kB     00:00     \n",
      "amzn-updates                                             | 3.8 kB     00:00     \n",
      "github_git-lfs-source/signature                          |  833 B     00:00     \n",
      "Retrieving key from https://packagecloud.io/github/git-lfs/gpgkey\n",
      "Importing GPG key 0xDC282033:\n",
      " Userid     : \"https://packagecloud.io/github/git-lfs (https://packagecloud.io/docs#gpg_signing) <support@packagecloud.io>\"\n",
      " Fingerprint: 6d39 8dbd 30dd 7894 1e2c 4797 fe2a 5f8b dc28 2033\n",
      " From       : https://packagecloud.io/github/git-lfs/gpgkey\n",
      "github_git-lfs-source/signature                          | 1.8 kB     00:00 !!! \n",
      "github_git-lfs-source/primary                              | 4.4 kB   00:00     \n",
      "github_git-lfs-source                                                     37/37\n",
      "Resolving Dependencies\n",
      "--> Running transaction check\n",
      "---> Package python26-pygpgme.x86_64 0:0.3-9.12.amzn1 will be installed\n",
      "--> Processing Dependency: python(abi) = 2.6 for package: python26-pygpgme-0.3-9.12.amzn1.x86_64\n",
      "--> Processing Dependency: python26(dist-packages) for package: python26-pygpgme-0.3-9.12.amzn1.x86_64\n",
      "--> Processing Dependency: libpython2.6.so.1.0()(64bit) for package: python26-pygpgme-0.3-9.12.amzn1.x86_64\n",
      "--> Running transaction check\n",
      "---> Package python26.x86_64 0:2.6.9-2.92.amzn1 will be installed\n",
      "---> Package python26-libs.x86_64 0:2.6.9-2.92.amzn1 will be installed\n",
      "--> Finished Dependency Resolution\n",
      "\n",
      "Dependencies Resolved\n",
      "\n",
      "================================================================================\n",
      " Package              Arch       Version                 Repository        Size\n",
      "================================================================================\n",
      "Installing:\n",
      " python26-pygpgme     x86_64     0.3-9.12.amzn1          amzn-main         68 k\n",
      "Installing for dependencies:\n",
      " python26             x86_64     2.6.9-2.92.amzn1        amzn-updates     5.8 M\n",
      " python26-libs        x86_64     2.6.9-2.92.amzn1        amzn-updates     697 k\n",
      "\n",
      "Transaction Summary\n",
      "================================================================================\n",
      "Install  1 Package (+2 Dependent packages)\n",
      "\n",
      "Total download size: 6.5 M\n",
      "Installed size: 21 M\n",
      "Downloading packages:\n",
      "(1/3): python26-libs-2.6.9-2.92.amzn1.x86_64.rpm           | 697 kB   00:00     \n",
      "(2/3): python26-pygpgme-0.3-9.12.amzn1.x86_64.rpm          |  68 kB   00:00     \n",
      "(3/3): python26-2.6.9-2.92.amzn1.x86_64.rpm                | 5.8 MB   00:00     \n",
      "--------------------------------------------------------------------------------\n",
      "Total                                               29 MB/s | 6.5 MB  00:00     \n",
      "Running transaction check\n",
      "Running transaction test\n",
      "Transaction test succeeded\n",
      "Running transaction\n",
      "Warning: RPMDB altered outside of yum.\n",
      "  Installing : python26-libs-2.6.9-2.92.amzn1.x86_64                        1/3 \n",
      "  Installing : python26-2.6.9-2.92.amzn1.x86_64                             2/3 \n",
      "  Installing : python26-pygpgme-0.3-9.12.amzn1.x86_64                       3/3 \n",
      "  Verifying  : python26-pygpgme-0.3-9.12.amzn1.x86_64                       1/3 \n",
      "  Verifying  : python26-2.6.9-2.92.amzn1.x86_64                             2/3 \n",
      "  Verifying  : python26-libs-2.6.9-2.92.amzn1.x86_64                        3/3 \n",
      "\n",
      "Installed:\n",
      "  python26-pygpgme.x86_64 0:0.3-9.12.amzn1                                      \n",
      "\n",
      "Dependency Installed:\n",
      "  python26.x86_64 0:2.6.9-2.92.amzn1   python26-libs.x86_64 0:2.6.9-2.92.amzn1  \n",
      "\n",
      "Complete!\n",
      "Installing yum-utils...\n",
      "Loaded plugins: dkms-build-requires, priorities, update-motd, upgrade-helper,\n",
      "              : versionlock\n",
      "Package yum-utils-1.1.31-46.30.amzn1.noarch already installed and latest version\n",
      "Nothing to do\n",
      "Generating yum cache for github_git-lfs...\n",
      "Importing GPG key 0xDC282033:\n",
      " Userid     : \"https://packagecloud.io/github/git-lfs (https://packagecloud.io/docs#gpg_signing) <support@packagecloud.io>\"\n",
      " Fingerprint: 6d39 8dbd 30dd 7894 1e2c 4797 fe2a 5f8b dc28 2033\n",
      " From       : https://packagecloud.io/github/git-lfs/gpgkey\n",
      "Generating yum cache for github_git-lfs-source...\n",
      "\n",
      "The repository is setup! You can now install packages.\n",
      "Loaded plugins: dkms-build-requires, priorities, update-motd, upgrade-helper,\n",
      "              : versionlock\n",
      "Existing lock /var/run/yum.pid: another copy is running as pid 3957.\n",
      "Another app is currently holding the yum lock; waiting for it to exit...\n",
      "  The other application is: yum\n",
      "    Memory :  60 M RSS (308 MB VSZ)\n",
      "    Started: Wed Jan 19 16:52:07 2022 - 00:07 ago\n",
      "    State  : Running, pid: 3957\n",
      "1 packages excluded due to repository priority protections\n",
      "Resolving Dependencies\n",
      "--> Running transaction check\n",
      "---> Package git-lfs.x86_64 0:2.12.1-1.el6 will be installed\n",
      "--> Finished Dependency Resolution\n",
      "\n",
      "Dependencies Resolved\n",
      "\n",
      "================================================================================\n",
      " Package        Arch          Version               Repository             Size\n",
      "================================================================================\n",
      "Installing:\n",
      " git-lfs        x86_64        2.12.1-1.el6          github_git-lfs        3.9 M\n",
      "\n",
      "Transaction Summary\n",
      "================================================================================\n",
      "Install  1 Package\n",
      "\n",
      "Total download size: 3.9 M\n",
      "Installed size: 12 M\n",
      "Downloading packages:\n",
      "git-lfs-2.12.1-1.el6.x86_64.rpm                            | 3.9 MB   00:00     \n",
      "Running transaction check\n",
      "Running transaction test\n",
      "Transaction test succeeded\n",
      "Running transaction\n",
      "  Installing : git-lfs-2.12.1-1.el6.x86_64                                  1/1 \n",
      "Git LFS initialized.\n",
      "  Verifying  : git-lfs-2.12.1-1.el6.x86_64                                  1/1 \n",
      "\n",
      "Installed:\n",
      "  git-lfs.x86_64 0:2.12.1-1.el6                                                 \n",
      "\n",
      "Complete!\n",
      "Updated git hooks.\n",
      "Git LFS initialized.\n"
     ]
    }
   ],
   "source": [
    "# Commands to enabled git lfs and use it to pull the zip folders\n",
    "#Reference: https://stackoverflow.com/questions/70513398/i-can-not-install-git-lfs-on-aws-sagemaker-notebook-instance\n",
    "!curl -s https://packagecloud.io/install/repositories/github/git-lfs/script.rpm.sh | sudo bash\n",
    "\n",
    "!sudo yum install git-lfs -y\n",
    "\n",
    "!git lfs install"
   ]
  },
  {
   "cell_type": "markdown",
   "id": "8b9e71ee",
   "metadata": {},
   "source": [
    "Now inorder to fetch the complete zip file from git lfs , we need to do `git lfs pull`"
   ]
  },
  {
   "cell_type": "code",
   "execution_count": 3,
   "id": "04f85717",
   "metadata": {},
   "outputs": [
    {
     "name": "stdout",
     "output_type": "stream",
     "text": [
      "Downloading LFS objects: 100% (1/1), 170 MB | 47 MB/s                           \r"
     ]
    }
   ],
   "source": [
    "!git lfs pull"
   ]
  },
  {
   "cell_type": "code",
   "execution_count": 4,
   "id": "352089e2",
   "metadata": {},
   "outputs": [],
   "source": [
    "# lets write a small utility functions to unzip our folder's contents.\n",
    "import zipfile\n",
    "\n",
    "# Function below unzips the archive to the local directory. \n",
    "def unzip_data(input_data_path):\n",
    "    with zipfile.ZipFile(input_data_path, 'r') as input_data_zip:\n",
    "        input_data_zip.extractall('.')"
   ]
  },
  {
   "cell_type": "code",
   "execution_count": 8,
   "id": "ecf7d654",
   "metadata": {},
   "outputs": [],
   "source": [
    "zipped_filename = \"CapstoneRawDatasetAndProposal.zip\"\n",
    "unzip_data(zipped_filename)"
   ]
  },
  {
   "cell_type": "code",
   "execution_count": 11,
   "id": "727cbb36",
   "metadata": {},
   "outputs": [],
   "source": [
    "input_folder_path = \"./CapstoneProposal/dataset/Plant_leave_diseases_dataset_with_augmentation\""
   ]
  },
  {
   "cell_type": "markdown",
   "id": "ac915bf8",
   "metadata": {},
   "source": [
    "##### Quick Overview of the plant diesease dataset.\n",
    "The total plant disease dataset of that will be used for this project consists of **9644 images** . All the images\n",
    "vary in dimensions, they are not standardized, and they are all coloured images. So the model\n",
    "will be trained on the above 9 plant image classes, for our use-case."
   ]
  },
  {
   "cell_type": "markdown",
   "id": "79f3ad84",
   "metadata": {},
   "source": [
    "#### Splitting Dataset into Train, Validation and Test Sets"
   ]
  },
  {
   "cell_type": "markdown",
   "id": "ea204b5a",
   "metadata": {},
   "source": [
    "The Dataset consists of **9 classes** and the dataset is more or less **balanced**. Thus we can split the dataset into train , validation and test sets in the ratio/proportion of \n",
    "**80:10:10**. Meaning 80% training dataset, 10% validation dataset and 10% test dataset."
   ]
  },
  {
   "cell_type": "code",
   "execution_count": 13,
   "id": "a1ad0e33",
   "metadata": {},
   "outputs": [
    {
     "name": "stderr",
     "output_type": "stream",
     "text": [
      "Copying files: 9644 files [00:01, 6660.96 files/s]\n"
     ]
    }
   ],
   "source": [
    "import splitfolders  # or import split_folders\n",
    "\n",
    "# Split with a ratio.\n",
    "splitfolders.ratio(input_folder_path, output=\"plant_disease_dataset\", seed=1357, ratio=(.8, .1, .1), group_prefix=None) # default valuesb"
   ]
  },
  {
   "cell_type": "markdown",
   "id": "f4822f91",
   "metadata": {},
   "source": []
  },
  {
   "cell_type": "code",
   "execution_count": null,
   "id": "e06b7e92",
   "metadata": {},
   "outputs": [],
   "source": []
  },
  {
   "cell_type": "code",
   "execution_count": null,
   "id": "7c0edd14",
   "metadata": {},
   "outputs": [],
   "source": []
  },
  {
   "cell_type": "code",
   "execution_count": null,
   "id": "721ba20c",
   "metadata": {},
   "outputs": [],
   "source": []
  }
 ],
 "metadata": {
  "kernelspec": {
   "display_name": "conda_pytorch_p36",
   "language": "python",
   "name": "conda_pytorch_p36"
  },
  "language_info": {
   "codemirror_mode": {
    "name": "ipython",
    "version": 3
   },
   "file_extension": ".py",
   "mimetype": "text/x-python",
   "name": "python",
   "nbconvert_exporter": "python",
   "pygments_lexer": "ipython3",
   "version": "3.6.13"
  }
 },
 "nbformat": 4,
 "nbformat_minor": 5
}
